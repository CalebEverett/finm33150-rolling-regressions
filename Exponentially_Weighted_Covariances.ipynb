{
 "cells": [
  {
   "cell_type": "markdown",
   "metadata": {},
   "source": [
    "# Exponentially Weighted Covariances"
   ]
  },
  {
   "cell_type": "code",
   "execution_count": 1,
   "metadata": {
    "ExecuteTime": {
     "end_time": "2020-05-11T22:31:07.152973Z",
     "start_time": "2020-05-11T22:31:06.588551Z"
    }
   },
   "outputs": [
    {
     "name": "stderr",
     "output_type": "stream",
     "text": [
      "/Volumes/b2tb/conda_envs/2020/teach/lib/python3.7/site-packages/rpy2/robjects/pandas2ri.py:17: FutureWarning: pandas.core.index is deprecated and will be removed in a future version.  The public classes are available in the top-level namespace.\n",
      "  from pandas.core.index import Index as PandasIndex\n"
     ]
    }
   ],
   "source": [
    "import pandas as pd\n",
    "import numpy as np\n",
    "import datetime\n",
    "import functools\n",
    "\n",
    "import quandl\n",
    "\n",
    "%load_ext rpy2.ipython"
   ]
  },
  {
   "cell_type": "markdown",
   "metadata": {},
   "source": [
    "$$\n",
    "\\hat{\\beta} = \\frac{\\mathrm{Cov}(x,y)}{\\mathrm{Var}(x)}\n",
    "$$"
   ]
  },
  {
   "cell_type": "code",
   "execution_count": 2,
   "metadata": {
    "ExecuteTime": {
     "end_time": "2020-05-11T22:31:07.157650Z",
     "start_time": "2020-05-11T22:31:07.154883Z"
    }
   },
   "outputs": [],
   "source": [
    "@functools.lru_cache(maxsize=1600)\n",
    "def fetch_quandl(my_data_items, start_date=None, returns=\"pandas\"):\n",
    "    qdata = quandl.get(list(my_data_items), returns=returns, \n",
    "                      trim_start=start_date,\n",
    "                      api_key=BrianBoonstraPrivateKeys['Quandl'])\n",
    "    return qdata"
   ]
  },
  {
   "cell_type": "code",
   "execution_count": 3,
   "metadata": {
    "ExecuteTime": {
     "end_time": "2020-05-11T22:31:07.694713Z",
     "start_time": "2020-05-11T22:31:07.159521Z"
    }
   },
   "outputs": [
    {
     "data": {
      "text/html": [
       "<div>\n",
       "<style scoped>\n",
       "    .dataframe tbody tr th:only-of-type {\n",
       "        vertical-align: middle;\n",
       "    }\n",
       "\n",
       "    .dataframe tbody tr th {\n",
       "        vertical-align: top;\n",
       "    }\n",
       "\n",
       "    .dataframe thead th {\n",
       "        text-align: right;\n",
       "    }\n",
       "</style>\n",
       "<table border=\"1\" class=\"dataframe\">\n",
       "  <thead>\n",
       "    <tr style=\"text-align: right;\">\n",
       "      <th></th>\n",
       "      <th>SUN</th>\n",
       "      <th>SPY</th>\n",
       "    </tr>\n",
       "    <tr>\n",
       "      <th>Date</th>\n",
       "      <th></th>\n",
       "      <th></th>\n",
       "    </tr>\n",
       "  </thead>\n",
       "  <tbody>\n",
       "    <tr>\n",
       "      <th>2020-04-27</th>\n",
       "      <td>22.797801</td>\n",
       "      <td>287.05</td>\n",
       "    </tr>\n",
       "    <tr>\n",
       "      <th>2020-04-28</th>\n",
       "      <td>22.971683</td>\n",
       "      <td>285.73</td>\n",
       "    </tr>\n",
       "    <tr>\n",
       "      <th>2020-04-29</th>\n",
       "      <td>23.947351</td>\n",
       "      <td>293.21</td>\n",
       "    </tr>\n",
       "    <tr>\n",
       "      <th>2020-04-30</th>\n",
       "      <td>23.976332</td>\n",
       "      <td>290.48</td>\n",
       "    </tr>\n",
       "    <tr>\n",
       "      <th>2020-05-01</th>\n",
       "      <td>23.445027</td>\n",
       "      <td>282.79</td>\n",
       "    </tr>\n",
       "    <tr>\n",
       "      <th>2020-05-04</th>\n",
       "      <td>23.609248</td>\n",
       "      <td>283.57</td>\n",
       "    </tr>\n",
       "    <tr>\n",
       "      <th>2020-05-05</th>\n",
       "      <td>23.343113</td>\n",
       "      <td>286.19</td>\n",
       "    </tr>\n",
       "    <tr>\n",
       "      <th>2020-05-06</th>\n",
       "      <td>23.460000</td>\n",
       "      <td>284.25</td>\n",
       "    </tr>\n",
       "    <tr>\n",
       "      <th>2020-05-07</th>\n",
       "      <td>22.710000</td>\n",
       "      <td>287.68</td>\n",
       "    </tr>\n",
       "    <tr>\n",
       "      <th>2020-05-08</th>\n",
       "      <td>23.840000</td>\n",
       "      <td>292.44</td>\n",
       "    </tr>\n",
       "    <tr>\n",
       "      <th>2020-05-11</th>\n",
       "      <td>24.670000</td>\n",
       "      <td>292.50</td>\n",
       "    </tr>\n",
       "  </tbody>\n",
       "</table>\n",
       "</div>"
      ],
      "text/plain": [
       "                  SUN     SPY\n",
       "Date                         \n",
       "2020-04-27  22.797801  287.05\n",
       "2020-04-28  22.971683  285.73\n",
       "2020-04-29  23.947351  293.21\n",
       "2020-04-30  23.976332  290.48\n",
       "2020-05-01  23.445027  282.79\n",
       "2020-05-04  23.609248  283.57\n",
       "2020-05-05  23.343113  286.19\n",
       "2020-05-06  23.460000  284.25\n",
       "2020-05-07  22.710000  287.68\n",
       "2020-05-08  23.840000  292.44\n",
       "2020-05-11  24.670000  292.50"
      ]
     },
     "execution_count": 3,
     "metadata": {},
     "output_type": "execute_result"
    }
   ],
   "source": [
    "data_df = fetch_quandl(('EOD/SUN','EOD/SPY'), \n",
    "                       start_date = datetime.date.today() - datetime.timedelta(days=14)\n",
    "                      ).loc[:,['EOD/SUN - Adj_Close', 'EOD/SPY - Adj_Close']]\n",
    "data_df.columns = ['SUN', 'SPY']\n",
    "data_df"
   ]
  },
  {
   "cell_type": "code",
   "execution_count": 6,
   "metadata": {
    "ExecuteTime": {
     "end_time": "2020-05-11T22:31:07.719649Z",
     "start_time": "2020-05-11T22:31:07.707076Z"
    }
   },
   "outputs": [
    {
     "data": {
      "text/html": [
       "<div>\n",
       "<style scoped>\n",
       "    .dataframe tbody tr th:only-of-type {\n",
       "        vertical-align: middle;\n",
       "    }\n",
       "\n",
       "    .dataframe tbody tr th {\n",
       "        vertical-align: top;\n",
       "    }\n",
       "\n",
       "    .dataframe thead th {\n",
       "        text-align: right;\n",
       "    }\n",
       "</style>\n",
       "<table border=\"1\" class=\"dataframe\">\n",
       "  <thead>\n",
       "    <tr style=\"text-align: right;\">\n",
       "      <th></th>\n",
       "      <th>SUN</th>\n",
       "      <th>SPY</th>\n",
       "    </tr>\n",
       "    <tr>\n",
       "      <th>Date</th>\n",
       "      <th></th>\n",
       "      <th></th>\n",
       "    </tr>\n",
       "  </thead>\n",
       "  <tbody>\n",
       "    <tr>\n",
       "      <th>2020-04-27</th>\n",
       "      <td>0.007627</td>\n",
       "      <td>-0.004599</td>\n",
       "    </tr>\n",
       "    <tr>\n",
       "      <th>2020-04-28</th>\n",
       "      <td>0.042473</td>\n",
       "      <td>0.026179</td>\n",
       "    </tr>\n",
       "    <tr>\n",
       "      <th>2020-04-29</th>\n",
       "      <td>0.001210</td>\n",
       "      <td>-0.009311</td>\n",
       "    </tr>\n",
       "    <tr>\n",
       "      <th>2020-04-30</th>\n",
       "      <td>-0.022160</td>\n",
       "      <td>-0.026473</td>\n",
       "    </tr>\n",
       "    <tr>\n",
       "      <th>2020-05-01</th>\n",
       "      <td>0.007005</td>\n",
       "      <td>0.002758</td>\n",
       "    </tr>\n",
       "    <tr>\n",
       "      <th>2020-05-04</th>\n",
       "      <td>-0.011273</td>\n",
       "      <td>0.009239</td>\n",
       "    </tr>\n",
       "    <tr>\n",
       "      <th>2020-05-05</th>\n",
       "      <td>0.005007</td>\n",
       "      <td>-0.006779</td>\n",
       "    </tr>\n",
       "    <tr>\n",
       "      <th>2020-05-06</th>\n",
       "      <td>-0.031969</td>\n",
       "      <td>0.012067</td>\n",
       "    </tr>\n",
       "    <tr>\n",
       "      <th>2020-05-07</th>\n",
       "      <td>0.049758</td>\n",
       "      <td>0.016546</td>\n",
       "    </tr>\n",
       "    <tr>\n",
       "      <th>2020-05-08</th>\n",
       "      <td>0.034815</td>\n",
       "      <td>0.000205</td>\n",
       "    </tr>\n",
       "  </tbody>\n",
       "</table>\n",
       "</div>"
      ],
      "text/plain": [
       "                 SUN       SPY\n",
       "Date                          \n",
       "2020-04-27  0.007627 -0.004599\n",
       "2020-04-28  0.042473  0.026179\n",
       "2020-04-29  0.001210 -0.009311\n",
       "2020-04-30 -0.022160 -0.026473\n",
       "2020-05-01  0.007005  0.002758\n",
       "2020-05-04 -0.011273  0.009239\n",
       "2020-05-05  0.005007 -0.006779\n",
       "2020-05-06 -0.031969  0.012067\n",
       "2020-05-07  0.049758  0.016546\n",
       "2020-05-08  0.034815  0.000205"
      ]
     },
     "execution_count": 6,
     "metadata": {},
     "output_type": "execute_result"
    }
   ],
   "source": [
    "ret_df = data_df.diff().div(data_df.shift(1)).shift(-1).iloc[:-1]\n",
    "ret_df"
   ]
  },
  {
   "cell_type": "code",
   "execution_count": 7,
   "metadata": {
    "ExecuteTime": {
     "end_time": "2020-05-11T22:31:07.730985Z",
     "start_time": "2020-05-11T22:31:07.720989Z"
    }
   },
   "outputs": [],
   "source": [
    "%%R \n",
    "\n",
    "exp_wtd_cov_unbiased = function(x1, x2, lamda) {\n",
    "    # Slow, not using update formula, but avoiding R loops so better at small to medium size\n",
    "    stopifnot(length(x1)==length(x2))\n",
    "    subgroup_cov = function(i, x1, x2, lamda) {\n",
    "        y1 = x1[1:i]\n",
    "        y2 = x2[1:i]\n",
    "        weights = (1 - lamda)^((i - 1):0)\n",
    "        ewma1 = sum(weights * y1) / sum(weights)\n",
    "        ewma2 = sum(weights * y2) / sum(weights)\n",
    "        biased_cov = sum(weights * (y1 - ewma1)*(y2-ewma2)) / sum(weights)\n",
    "        bias_correction = sum(weights)^2 / (sum(weights)^2 - sum(weights^2))\n",
    "        ewmc = bias_correction * biased_cov\n",
    "        ewmc\n",
    "    }\n",
    "    covs = sapply( 1:length(x1), subgroup_cov, x1 = x1, x2 = x2, lamda = lamda)\n",
    "    covs\n",
    "}"
   ]
  },
  {
   "cell_type": "code",
   "execution_count": 8,
   "metadata": {
    "ExecuteTime": {
     "end_time": "2020-05-11T22:31:07.736802Z",
     "start_time": "2020-05-11T22:31:07.733670Z"
    }
   },
   "outputs": [],
   "source": [
    "r_ew_covs = np.NaN * ret_df.SUN\n"
   ]
  },
  {
   "cell_type": "code",
   "execution_count": 9,
   "metadata": {
    "ExecuteTime": {
     "end_time": "2020-05-11T22:31:07.778660Z",
     "start_time": "2020-05-11T22:31:07.738324Z"
    }
   },
   "outputs": [],
   "source": [
    "%%R -i ret_df -o r_ew_covs\n",
    "\n",
    "r_ew_covs = exp_wtd_cov_unbiased(ret_df$SUN, ret_df$SPY, 0.8)\n"
   ]
  },
  {
   "cell_type": "code",
   "execution_count": 10,
   "metadata": {
    "ExecuteTime": {
     "end_time": "2020-05-11T22:31:07.782754Z",
     "start_time": "2020-05-11T22:31:07.779962Z"
    }
   },
   "outputs": [
    {
     "data": {
      "text/html": [
       "\n",
       "    <span>FloatVector with 10 elements.</span>\n",
       "    <table>\n",
       "      <tbody>\n",
       "      <tr>\n",
       "      \n",
       "      <td>\n",
       "             nan\n",
       "      </td>\n",
       "      \n",
       "      <td>\n",
       "        0.000536\n",
       "      </td>\n",
       "      \n",
       "      <td>\n",
       "        0.000610\n",
       "      </td>\n",
       "      \n",
       "      <td>\n",
       "        0.000453\n",
       "      </td>\n",
       "      \n",
       "      <td>\n",
       "        ...\n",
       "      </td>\n",
       "      \n",
       "      <td>\n",
       "        -0.000090\n",
       "      </td>\n",
       "      \n",
       "      <td>\n",
       "        -0.000283\n",
       "      </td>\n",
       "      \n",
       "      <td>\n",
       "        0.000220\n",
       "      </td>\n",
       "      \n",
       "      <td>\n",
       "        0.000044\n",
       "      </td>\n",
       "      \n",
       "      </tr>\n",
       "      </tbody>\n",
       "    </table>\n",
       "    "
      ],
      "text/plain": [
       "R object with classes: ('numeric',) mapped to:\n",
       "<FloatVector - Python:0x7fed6047ce60 / R:0x7fed69e69f68>\n",
       "[     nan, 0.000536, 0.000610, 0.000453, ..., -0.000090, -0.000283, 0.000220, 0.000044]"
      ]
     },
     "execution_count": 10,
     "metadata": {},
     "output_type": "execute_result"
    }
   ],
   "source": [
    "r_ew_covs"
   ]
  },
  {
   "cell_type": "code",
   "execution_count": 11,
   "metadata": {
    "ExecuteTime": {
     "end_time": "2020-05-11T22:31:07.795866Z",
     "start_time": "2020-05-11T22:31:07.784878Z"
    }
   },
   "outputs": [
    {
     "data": {
      "text/plain": [
       "Date\n",
       "2020-04-27         NaN\n",
       "2020-04-28    0.000536\n",
       "2020-04-29    0.000610\n",
       "2020-04-30    0.000453\n",
       "2020-05-01    0.000364\n",
       "2020-05-04   -0.000002\n",
       "2020-05-05   -0.000090\n",
       "2020-05-06   -0.000283\n",
       "2020-05-07    0.000220\n",
       "2020-05-08    0.000044\n",
       "Name: SUN, dtype: float64"
      ]
     },
     "execution_count": 11,
     "metadata": {},
     "output_type": "execute_result"
    }
   ],
   "source": [
    "pd_ew_covs = ret_df.ewm(alpha=0.8, adjust=True).cov()['SUN'].xs('SPY', level=1)\n",
    "pd_ew_covs"
   ]
  },
  {
   "cell_type": "code",
   "execution_count": 12,
   "metadata": {
    "ExecuteTime": {
     "end_time": "2020-05-11T22:31:07.804061Z",
     "start_time": "2020-05-11T22:31:07.797186Z"
    }
   },
   "outputs": [
    {
     "data": {
      "text/html": [
       "<div>\n",
       "<style scoped>\n",
       "    .dataframe tbody tr th:only-of-type {\n",
       "        vertical-align: middle;\n",
       "    }\n",
       "\n",
       "    .dataframe tbody tr th {\n",
       "        vertical-align: top;\n",
       "    }\n",
       "\n",
       "    .dataframe thead th {\n",
       "        text-align: right;\n",
       "    }\n",
       "</style>\n",
       "<table border=\"1\" class=\"dataframe\">\n",
       "  <thead>\n",
       "    <tr style=\"text-align: right;\">\n",
       "      <th></th>\n",
       "      <th>Pandas</th>\n",
       "      <th>R</th>\n",
       "    </tr>\n",
       "    <tr>\n",
       "      <th>Date</th>\n",
       "      <th></th>\n",
       "      <th></th>\n",
       "    </tr>\n",
       "  </thead>\n",
       "  <tbody>\n",
       "    <tr>\n",
       "      <th>2020-04-27</th>\n",
       "      <td>NaN</td>\n",
       "      <td>NaN</td>\n",
       "    </tr>\n",
       "    <tr>\n",
       "      <th>2020-04-28</th>\n",
       "      <td>0.000536</td>\n",
       "      <td>0.000536</td>\n",
       "    </tr>\n",
       "    <tr>\n",
       "      <th>2020-04-29</th>\n",
       "      <td>0.000610</td>\n",
       "      <td>0.000610</td>\n",
       "    </tr>\n",
       "    <tr>\n",
       "      <th>2020-04-30</th>\n",
       "      <td>0.000453</td>\n",
       "      <td>0.000453</td>\n",
       "    </tr>\n",
       "    <tr>\n",
       "      <th>2020-05-01</th>\n",
       "      <td>0.000364</td>\n",
       "      <td>0.000364</td>\n",
       "    </tr>\n",
       "    <tr>\n",
       "      <th>2020-05-04</th>\n",
       "      <td>-0.000002</td>\n",
       "      <td>-0.000002</td>\n",
       "    </tr>\n",
       "    <tr>\n",
       "      <th>2020-05-05</th>\n",
       "      <td>-0.000090</td>\n",
       "      <td>-0.000090</td>\n",
       "    </tr>\n",
       "    <tr>\n",
       "      <th>2020-05-06</th>\n",
       "      <td>-0.000283</td>\n",
       "      <td>-0.000283</td>\n",
       "    </tr>\n",
       "    <tr>\n",
       "      <th>2020-05-07</th>\n",
       "      <td>0.000220</td>\n",
       "      <td>0.000220</td>\n",
       "    </tr>\n",
       "    <tr>\n",
       "      <th>2020-05-08</th>\n",
       "      <td>0.000044</td>\n",
       "      <td>0.000044</td>\n",
       "    </tr>\n",
       "  </tbody>\n",
       "</table>\n",
       "</div>"
      ],
      "text/plain": [
       "              Pandas         R\n",
       "Date                          \n",
       "2020-04-27       NaN       NaN\n",
       "2020-04-28  0.000536  0.000536\n",
       "2020-04-29  0.000610  0.000610\n",
       "2020-04-30  0.000453  0.000453\n",
       "2020-05-01  0.000364  0.000364\n",
       "2020-05-04 -0.000002 -0.000002\n",
       "2020-05-05 -0.000090 -0.000090\n",
       "2020-05-06 -0.000283 -0.000283\n",
       "2020-05-07  0.000220  0.000220\n",
       "2020-05-08  0.000044  0.000044"
      ]
     },
     "execution_count": 12,
     "metadata": {},
     "output_type": "execute_result"
    }
   ],
   "source": [
    "pd.DataFrame({'Pandas':pd_ew_covs, 'R':r_ew_covs})"
   ]
  },
  {
   "cell_type": "code",
   "execution_count": null,
   "metadata": {},
   "outputs": [],
   "source": []
  },
  {
   "cell_type": "code",
   "execution_count": null,
   "metadata": {},
   "outputs": [],
   "source": []
  }
 ],
 "metadata": {
  "kernelspec": {
   "display_name": "Python 3",
   "language": "python",
   "name": "python3"
  },
  "language_info": {
   "codemirror_mode": {
    "name": "ipython",
    "version": 3
   },
   "file_extension": ".py",
   "mimetype": "text/x-python",
   "name": "python",
   "nbconvert_exporter": "python",
   "pygments_lexer": "ipython3",
   "version": "3.7.7"
  }
 },
 "nbformat": 4,
 "nbformat_minor": 4
}
